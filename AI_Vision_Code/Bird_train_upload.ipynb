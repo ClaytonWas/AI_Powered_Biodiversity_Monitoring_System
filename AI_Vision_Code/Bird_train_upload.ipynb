{
 "cells": [
  {
   "cell_type": "code",
   "execution_count": 1,
   "id": "bfaa97ec",
   "metadata": {},
   "outputs": [],
   "source": [
    "# Requires clientside communication install of Azures Custom Vision API\n",
    "# `pip install azure-cognitiveservices-vision-customvision`\n",
    "from azure.cognitiveservices.vision.customvision.training import CustomVisionTrainingClient\n",
    "from azure.cognitiveservices.vision.customvision.training.models import ImageFileCreateEntry\n",
    "from azure.cognitiveservices.vision.customvision.training.models import ImageFileCreateBatch\n",
    "from msrest.authentication import ApiKeyCredentials \n",
    "\n",
    "import os\n",
    "import numpy as np"
   ]
  },
  {
   "cell_type": "code",
   "execution_count": 2,
   "id": "7c29576a",
   "metadata": {},
   "outputs": [],
   "source": [
    "# Azure Communication\n",
    "ENDPOINT = \"https://customid.cognitiveservices.azure.com/\"\n",
    "training_key = \"7dff09b1d60e4fbb8c71305737d8c771\"\n",
    "credentials = ApiKeyCredentials(in_headers={\"Training-key\": training_key})\n",
    "publish_iteration_name = \"customid\"\n",
    "trainer = CustomVisionTrainingClient(ENDPOINT, credentials)\n",
    "\n",
    "project = trainer.create_project(\"customid\")"
   ]
  },
  {
   "cell_type": "code",
   "execution_count": 3,
   "id": "c864a14c",
   "metadata": {
    "scrolled": true
   },
   "outputs": [
    {
     "ename": "FileNotFoundError",
     "evalue": "[Errno 2] No such file or directory: './Bird_Training/train'",
     "output_type": "error",
     "traceback": [
      "\u001b[0;31m---------------------------------------------------------------------------\u001b[0m",
      "\u001b[0;31mFileNotFoundError\u001b[0m                         Traceback (most recent call last)",
      "Cell \u001b[0;32mIn[3], line 1\u001b[0m\n\u001b[0;32m----> 1\u001b[0m \u001b[43mos\u001b[49m\u001b[38;5;241;43m.\u001b[39;49m\u001b[43mchdir\u001b[49m\u001b[43m(\u001b[49m\u001b[38;5;124;43m'\u001b[39;49m\u001b[38;5;124;43m./Bird_Training/train\u001b[39;49m\u001b[38;5;124;43m'\u001b[39;49m\u001b[43m)\u001b[49m\n\u001b[1;32m      3\u001b[0m \u001b[38;5;66;03m# Classify each species by the folder it's contained in\u001b[39;00m\n\u001b[1;32m      4\u001b[0m tags \u001b[38;5;241m=\u001b[39m [name \u001b[38;5;28;01mfor\u001b[39;00m name \u001b[38;5;129;01min\u001b[39;00m os\u001b[38;5;241m.\u001b[39mlistdir(\u001b[38;5;124m'\u001b[39m\u001b[38;5;124m.\u001b[39m\u001b[38;5;124m'\u001b[39m) \u001b[38;5;28;01mif\u001b[39;00m os\u001b[38;5;241m.\u001b[39mpath\u001b[38;5;241m.\u001b[39misdir(name)]\n",
      "\u001b[0;31mFileNotFoundError\u001b[0m: [Errno 2] No such file or directory: './Bird_Training/train'"
     ]
    }
   ],
   "source": [
    "os.chdir('./Bird_Train/train')\n",
    "\n",
    "# Classify each species by the folder it's contained in\n",
    "tags = [name for name in os.listdir('.') if os.path.isdir(name)]"
   ]
  },
  {
   "cell_type": "code",
   "execution_count": null,
   "id": "76a79fb7",
   "metadata": {},
   "outputs": [],
   "source": [
    "def createTag(tag_name):\n",
    "    # Create a new tag in the Custom Vision project\n",
    "    tag = trainer.create_tag(project.id, tag_name)\n",
    "    return tag.id\n",
    "\n",
    "def createImageList(tag, tag_id):\n",
    "# Set directory to current tag.\n",
    "   base_image_url = f\"./{tag}/\"\n",
    "   photo_name_list = os.listdir(base_image_url)\n",
    "   image_list = []\n",
    "   for file_name in photo_name_list:\n",
    "       with open(base_image_url+file_name, \"rb\") as image_contents:\n",
    "           image_list.append(ImageFileCreateEntry(name=base_image_url+file_name, contents=image_contents.read(), tag_ids=[tag_id]))\n",
    "   return image_list\n",
    "\n",
    "def uploadImageList(image_list):\n",
    "      upload_result = trainer.create_images_from_files(project_id=project.id, batch=image_list)\n",
    "      if not upload_result.is_batch_successful:\n",
    "         print(\"Image batch upload failed.\")\n",
    "         for image in upload_result.images:\n",
    "              print(\"Image status: \", image.status)\n",
    "         exit(-1)"
   ]
  },
  {
   "cell_type": "code",
   "execution_count": null,
   "id": "82e5c872",
   "metadata": {},
   "outputs": [],
   "source": [
    "for tag in tags:\n",
    "    tag_id = createTag(tag)\n",
    "    print(f\"tag creation done with tag id {tag_id}\")\n",
    "    image_list = createImageList(tag, tag_id)\n",
    "    print(\"image_list created with length \" + str(len(image_list)))\n",
    "\n",
    "    # Depending on the ammount of transactions, the upload batch sizes should be changed. (Currently 50)\n",
    "    for i in range(0, len(image_list), 25):\n",
    "        batch = ImageFileCreateBatch(images=image_list[i:i + 25])\n",
    "        print(f'Upload started for batch {i} total items {len(image_list)} for tag {tag}...')\n",
    "        uploadImageList(batch)\n",
    "        print(f\"Batch {i} Image upload completed. Total uploaded {len(image_list)} for tag {tag}\")"
   ]
  }
 ],
 "metadata": {
  "kernelspec": {
   "display_name": "Python 3 (ipykernel)",
   "language": "python",
   "name": "python3"
  },
  "language_info": {
   "codemirror_mode": {
    "name": "ipython",
    "version": 3
   },
   "file_extension": ".py",
   "mimetype": "text/x-python",
   "name": "python",
   "nbconvert_exporter": "python",
   "pygments_lexer": "ipython3",
   "version": "3.10.12"
  }
 },
 "nbformat": 4,
 "nbformat_minor": 5
}
