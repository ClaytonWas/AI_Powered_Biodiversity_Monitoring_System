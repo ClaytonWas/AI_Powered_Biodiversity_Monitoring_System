{
 "cells": [
  {
   "cell_type": "code",
   "execution_count": null,
   "id": "bfaa97ec",
   "metadata": {},
   "outputs": [],
   "source": [
    "# Requires clientside communication install of Azures Custom Vision API\n",
    "# `pip install azure-cognitiveservices-vision-customvision`\n",
    "from azure.cognitiveservices.vision.customvision.training import CustomVisionTrainingClient\n",
    "from azure.cognitiveservices.vision.customvision.training.models import ImageFileCreateEntry\n",
    "from azure.cognitiveservices.vision.customvision.training.models import ImageFileCreateBatch\n",
    "from msrest.authentication import ApiKeyCredentials \n",
    "\n",
    "import os\n",
    "import numpy as np"
   ]
  },
  {
   "cell_type": "code",
   "execution_count": null,
   "id": "7c29576a",
   "metadata": {},
   "outputs": [],
   "source": [
    "# Azure Communication\n",
    "ENDPOINT = \"https://mushroomidentification.cognitiveservices.azure.com/\"\n",
    "training_key = \"b23db89adeb74331aad3d3abbb55ac1e\"\n",
    "credentials = ApiKeyCredentials(in_headers={\"Training-key\": training_key})\n",
    "publish_iteration_name = \"classifyMushroomModel\"\n",
    "trainer = CustomVisionTrainingClient(ENDPOINT, credentials)\n",
    "\n",
    "project = trainer.create_project(\"Mushroom Classification\")"
   ]
  },
  {
   "cell_type": "code",
   "execution_count": null,
   "id": "c864a14c",
   "metadata": {
    "scrolled": true
   },
   "outputs": [],
   "source": [
    "os.chdir('./Mushroom_Species_Photos')\n",
    "\n",
    "# Classify each species by the folder it's contained in\n",
    "tags = [name for name in os.listdir('.') if os.path.isdir(name)]"
   ]
  },
  {
   "cell_type": "code",
   "execution_count": null,
   "id": "76a79fb7",
   "metadata": {},
   "outputs": [],
   "source": [
    "def createTag(tag_name):\n",
    "    # Create a new tag in the Custom Vision project\n",
    "    tag = trainer.create_tag(project.id, tag_name)\n",
    "    return tag.id\n",
    "\n",
    "def createImageList(tag, tag_id):\n",
    "# Set directory to current tag.\n",
    "   base_image_url = f\"./{tag}/\"\n",
    "   photo_name_list = os.listdir(base_image_url)\n",
    "   image_list = []\n",
    "   for file_name in photo_name_list:\n",
    "       with open(base_image_url+file_name, \"rb\") as image_contents:\n",
    "           image_list.append(ImageFileCreateEntry(name=base_image_url+file_name, contents=image_contents.read(), tag_ids=[tag_id]))\n",
    "   return image_list\n",
    "\n",
    "def uploadImageList(image_list):\n",
    "      upload_result = trainer.create_images_from_files(project_id=project.id, batch=image_list)\n",
    "      if not upload_result.is_batch_successful:\n",
    "         print(\"Image batch upload failed.\")\n",
    "         for image in upload_result.images:\n",
    "              print(\"Image status: \", image.status)\n",
    "         exit(-1)"
   ]
  },
  {
   "cell_type": "code",
   "execution_count": null,
   "id": "82e5c872",
   "metadata": {},
   "outputs": [],
   "source": [
    "for tag in tags:\n",
    "    tag_id = createTag(tag)\n",
    "    print(f\"tag creation done with tag id {tag_id}\")\n",
    "    image_list = createImageList(tag, tag_id)\n",
    "    print(\"image_list created with length \" + str(len(image_list)))\n",
    "\n",
    "    # Depending on the ammount of transactions, the upload batch sizes should be changed. (Currently 50)\n",
    "    for i in range(0, len(image_list), 25):\n",
    "        batch = ImageFileCreateBatch(images=image_list[i:i + 25])\n",
    "        print(f'Upload started for batch {i} total items {len(image_list)} for tag {tag}...')\n",
    "        uploadImageList(batch)\n",
    "        print(f\"Batch {i} Image upload completed. Total uploaded {len(image_list)} for tag {tag}\")"
   ]
  }
 ],
 "metadata": {
  "kernelspec": {
   "display_name": "Python 3 (ipykernel)",
   "language": "python",
   "name": "python3"
  },
  "language_info": {
   "codemirror_mode": {
    "name": "ipython",
    "version": 3
   },
   "file_extension": ".py",
   "mimetype": "text/x-python",
   "name": "python",
   "nbconvert_exporter": "python",
   "pygments_lexer": "ipython3",
   "version": "3.9.12"
  }
 },
 "nbformat": 4,
 "nbformat_minor": 5
}
